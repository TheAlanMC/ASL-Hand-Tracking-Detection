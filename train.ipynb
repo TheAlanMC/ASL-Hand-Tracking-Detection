{
 "cells": [
  {
   "cell_type": "code",
   "execution_count": 1,
   "metadata": {},
   "outputs": [],
   "source": [
    "#importamos las librerias\n",
    "import pandas as pd\n",
    "from sklearn.model_selection import train_test_split\n",
    "from sklearn.metrics import accuracy_score, confusion_matrix, classification_report, f1_score, recall_score, precision_score\n",
    "from sklearn.svm import SVC\n",
    "from sklearn.model_selection import GridSearchCV\n",
    "import seaborn as sns\n",
    "import matplotlib.pyplot as plt\n",
    "import joblib"
   ]
  },
  {
   "cell_type": "markdown",
   "metadata": {},
   "source": [
    "## Limpieza de datos"
   ]
  },
  {
   "cell_type": "code",
   "execution_count": 2,
   "metadata": {},
   "outputs": [
    {
     "data": {
      "text/html": [
       "<div>\n",
       "<style scoped>\n",
       "    .dataframe tbody tr th:only-of-type {\n",
       "        vertical-align: middle;\n",
       "    }\n",
       "\n",
       "    .dataframe tbody tr th {\n",
       "        vertical-align: top;\n",
       "    }\n",
       "\n",
       "    .dataframe thead th {\n",
       "        text-align: right;\n",
       "    }\n",
       "</style>\n",
       "<table border=\"1\" class=\"dataframe\">\n",
       "  <thead>\n",
       "    <tr style=\"text-align: right;\">\n",
       "      <th></th>\n",
       "      <th>0</th>\n",
       "      <th>1</th>\n",
       "      <th>2</th>\n",
       "      <th>3</th>\n",
       "      <th>4</th>\n",
       "      <th>5</th>\n",
       "      <th>6</th>\n",
       "      <th>7</th>\n",
       "      <th>8</th>\n",
       "      <th>9</th>\n",
       "      <th>...</th>\n",
       "      <th>33</th>\n",
       "      <th>34</th>\n",
       "      <th>35</th>\n",
       "      <th>36</th>\n",
       "      <th>37</th>\n",
       "      <th>38</th>\n",
       "      <th>39</th>\n",
       "      <th>40</th>\n",
       "      <th>41</th>\n",
       "      <th>Output</th>\n",
       "    </tr>\n",
       "  </thead>\n",
       "  <tbody>\n",
       "    <tr>\n",
       "      <th>0</th>\n",
       "      <td>0.710651</td>\n",
       "      <td>0.360695</td>\n",
       "      <td>0.615888</td>\n",
       "      <td>0.346171</td>\n",
       "      <td>0.550860</td>\n",
       "      <td>0.282601</td>\n",
       "      <td>0.534762</td>\n",
       "      <td>0.218653</td>\n",
       "      <td>0.534387</td>\n",
       "      <td>0.164782</td>\n",
       "      <td>...</td>\n",
       "      <td>0.294588</td>\n",
       "      <td>0.770108</td>\n",
       "      <td>0.201429</td>\n",
       "      <td>0.770906</td>\n",
       "      <td>0.183164</td>\n",
       "      <td>0.770106</td>\n",
       "      <td>0.239929</td>\n",
       "      <td>0.771767</td>\n",
       "      <td>0.288998</td>\n",
       "      <td>A</td>\n",
       "    </tr>\n",
       "    <tr>\n",
       "      <th>1</th>\n",
       "      <td>0.405695</td>\n",
       "      <td>0.647552</td>\n",
       "      <td>0.319726</td>\n",
       "      <td>0.581067</td>\n",
       "      <td>0.271913</td>\n",
       "      <td>0.498254</td>\n",
       "      <td>0.273852</td>\n",
       "      <td>0.422791</td>\n",
       "      <td>0.295577</td>\n",
       "      <td>0.365717</td>\n",
       "      <td>...</td>\n",
       "      <td>0.546457</td>\n",
       "      <td>0.500247</td>\n",
       "      <td>0.503992</td>\n",
       "      <td>0.491320</td>\n",
       "      <td>0.457143</td>\n",
       "      <td>0.470195</td>\n",
       "      <td>0.505762</td>\n",
       "      <td>0.454539</td>\n",
       "      <td>0.552650</td>\n",
       "      <td>A</td>\n",
       "    </tr>\n",
       "    <tr>\n",
       "      <th>2</th>\n",
       "      <td>0.316689</td>\n",
       "      <td>0.521771</td>\n",
       "      <td>0.232337</td>\n",
       "      <td>0.467040</td>\n",
       "      <td>0.177462</td>\n",
       "      <td>0.386787</td>\n",
       "      <td>0.160568</td>\n",
       "      <td>0.317913</td>\n",
       "      <td>0.168354</td>\n",
       "      <td>0.258710</td>\n",
       "      <td>...</td>\n",
       "      <td>0.429866</td>\n",
       "      <td>0.397665</td>\n",
       "      <td>0.363233</td>\n",
       "      <td>0.370970</td>\n",
       "      <td>0.322016</td>\n",
       "      <td>0.361503</td>\n",
       "      <td>0.368900</td>\n",
       "      <td>0.359597</td>\n",
       "      <td>0.413843</td>\n",
       "      <td>A</td>\n",
       "    </tr>\n",
       "    <tr>\n",
       "      <th>3</th>\n",
       "      <td>0.548107</td>\n",
       "      <td>0.650610</td>\n",
       "      <td>0.476015</td>\n",
       "      <td>0.570932</td>\n",
       "      <td>0.428442</td>\n",
       "      <td>0.476566</td>\n",
       "      <td>0.431988</td>\n",
       "      <td>0.391317</td>\n",
       "      <td>0.477113</td>\n",
       "      <td>0.336531</td>\n",
       "      <td>...</td>\n",
       "      <td>0.536890</td>\n",
       "      <td>0.672368</td>\n",
       "      <td>0.509499</td>\n",
       "      <td>0.671439</td>\n",
       "      <td>0.455122</td>\n",
       "      <td>0.642028</td>\n",
       "      <td>0.502216</td>\n",
       "      <td>0.620230</td>\n",
       "      <td>0.548037</td>\n",
       "      <td>A</td>\n",
       "    </tr>\n",
       "    <tr>\n",
       "      <th>4</th>\n",
       "      <td>0.000000</td>\n",
       "      <td>0.000000</td>\n",
       "      <td>0.000000</td>\n",
       "      <td>0.000000</td>\n",
       "      <td>0.000000</td>\n",
       "      <td>0.000000</td>\n",
       "      <td>0.000000</td>\n",
       "      <td>0.000000</td>\n",
       "      <td>0.000000</td>\n",
       "      <td>0.000000</td>\n",
       "      <td>...</td>\n",
       "      <td>0.000000</td>\n",
       "      <td>0.000000</td>\n",
       "      <td>0.000000</td>\n",
       "      <td>0.000000</td>\n",
       "      <td>0.000000</td>\n",
       "      <td>0.000000</td>\n",
       "      <td>0.000000</td>\n",
       "      <td>0.000000</td>\n",
       "      <td>0.000000</td>\n",
       "      <td>A</td>\n",
       "    </tr>\n",
       "    <tr>\n",
       "      <th>...</th>\n",
       "      <td>...</td>\n",
       "      <td>...</td>\n",
       "      <td>...</td>\n",
       "      <td>...</td>\n",
       "      <td>...</td>\n",
       "      <td>...</td>\n",
       "      <td>...</td>\n",
       "      <td>...</td>\n",
       "      <td>...</td>\n",
       "      <td>...</td>\n",
       "      <td>...</td>\n",
       "      <td>...</td>\n",
       "      <td>...</td>\n",
       "      <td>...</td>\n",
       "      <td>...</td>\n",
       "      <td>...</td>\n",
       "      <td>...</td>\n",
       "      <td>...</td>\n",
       "      <td>...</td>\n",
       "      <td>...</td>\n",
       "      <td>...</td>\n",
       "    </tr>\n",
       "    <tr>\n",
       "      <th>77994</th>\n",
       "      <td>0.000000</td>\n",
       "      <td>0.000000</td>\n",
       "      <td>0.000000</td>\n",
       "      <td>0.000000</td>\n",
       "      <td>0.000000</td>\n",
       "      <td>0.000000</td>\n",
       "      <td>0.000000</td>\n",
       "      <td>0.000000</td>\n",
       "      <td>0.000000</td>\n",
       "      <td>0.000000</td>\n",
       "      <td>...</td>\n",
       "      <td>0.000000</td>\n",
       "      <td>0.000000</td>\n",
       "      <td>0.000000</td>\n",
       "      <td>0.000000</td>\n",
       "      <td>0.000000</td>\n",
       "      <td>0.000000</td>\n",
       "      <td>0.000000</td>\n",
       "      <td>0.000000</td>\n",
       "      <td>0.000000</td>\n",
       "      <td>Z</td>\n",
       "    </tr>\n",
       "    <tr>\n",
       "      <th>77995</th>\n",
       "      <td>0.714819</td>\n",
       "      <td>0.403143</td>\n",
       "      <td>0.608619</td>\n",
       "      <td>0.388398</td>\n",
       "      <td>0.515879</td>\n",
       "      <td>0.337775</td>\n",
       "      <td>0.514845</td>\n",
       "      <td>0.250400</td>\n",
       "      <td>0.557569</td>\n",
       "      <td>0.189935</td>\n",
       "      <td>...</td>\n",
       "      <td>0.283247</td>\n",
       "      <td>0.694655</td>\n",
       "      <td>0.191754</td>\n",
       "      <td>0.650525</td>\n",
       "      <td>0.156901</td>\n",
       "      <td>0.638529</td>\n",
       "      <td>0.219743</td>\n",
       "      <td>0.646750</td>\n",
       "      <td>0.275978</td>\n",
       "      <td>Z</td>\n",
       "    </tr>\n",
       "    <tr>\n",
       "      <th>77996</th>\n",
       "      <td>0.812538</td>\n",
       "      <td>0.807378</td>\n",
       "      <td>0.722488</td>\n",
       "      <td>0.770654</td>\n",
       "      <td>0.657870</td>\n",
       "      <td>0.685040</td>\n",
       "      <td>0.695809</td>\n",
       "      <td>0.598595</td>\n",
       "      <td>0.760485</td>\n",
       "      <td>0.558474</td>\n",
       "      <td>...</td>\n",
       "      <td>0.668922</td>\n",
       "      <td>0.832692</td>\n",
       "      <td>0.606806</td>\n",
       "      <td>0.831649</td>\n",
       "      <td>0.549688</td>\n",
       "      <td>0.830354</td>\n",
       "      <td>0.607322</td>\n",
       "      <td>0.827806</td>\n",
       "      <td>0.658208</td>\n",
       "      <td>Z</td>\n",
       "    </tr>\n",
       "    <tr>\n",
       "      <th>77997</th>\n",
       "      <td>0.000000</td>\n",
       "      <td>0.000000</td>\n",
       "      <td>0.000000</td>\n",
       "      <td>0.000000</td>\n",
       "      <td>0.000000</td>\n",
       "      <td>0.000000</td>\n",
       "      <td>0.000000</td>\n",
       "      <td>0.000000</td>\n",
       "      <td>0.000000</td>\n",
       "      <td>0.000000</td>\n",
       "      <td>...</td>\n",
       "      <td>0.000000</td>\n",
       "      <td>0.000000</td>\n",
       "      <td>0.000000</td>\n",
       "      <td>0.000000</td>\n",
       "      <td>0.000000</td>\n",
       "      <td>0.000000</td>\n",
       "      <td>0.000000</td>\n",
       "      <td>0.000000</td>\n",
       "      <td>0.000000</td>\n",
       "      <td>Z</td>\n",
       "    </tr>\n",
       "    <tr>\n",
       "      <th>77998</th>\n",
       "      <td>0.479981</td>\n",
       "      <td>0.823020</td>\n",
       "      <td>0.384841</td>\n",
       "      <td>0.862009</td>\n",
       "      <td>0.268113</td>\n",
       "      <td>0.840944</td>\n",
       "      <td>0.220714</td>\n",
       "      <td>0.749329</td>\n",
       "      <td>0.236509</td>\n",
       "      <td>0.673418</td>\n",
       "      <td>...</td>\n",
       "      <td>0.749483</td>\n",
       "      <td>0.392075</td>\n",
       "      <td>0.662869</td>\n",
       "      <td>0.357071</td>\n",
       "      <td>0.629340</td>\n",
       "      <td>0.384641</td>\n",
       "      <td>0.690663</td>\n",
       "      <td>0.411540</td>\n",
       "      <td>0.726564</td>\n",
       "      <td>Z</td>\n",
       "    </tr>\n",
       "  </tbody>\n",
       "</table>\n",
       "<p>77999 rows × 43 columns</p>\n",
       "</div>"
      ],
      "text/plain": [
       "              0         1         2         3         4         5         6  \\\n",
       "0      0.710651  0.360695  0.615888  0.346171  0.550860  0.282601  0.534762   \n",
       "1      0.405695  0.647552  0.319726  0.581067  0.271913  0.498254  0.273852   \n",
       "2      0.316689  0.521771  0.232337  0.467040  0.177462  0.386787  0.160568   \n",
       "3      0.548107  0.650610  0.476015  0.570932  0.428442  0.476566  0.431988   \n",
       "4      0.000000  0.000000  0.000000  0.000000  0.000000  0.000000  0.000000   \n",
       "...         ...       ...       ...       ...       ...       ...       ...   \n",
       "77994  0.000000  0.000000  0.000000  0.000000  0.000000  0.000000  0.000000   \n",
       "77995  0.714819  0.403143  0.608619  0.388398  0.515879  0.337775  0.514845   \n",
       "77996  0.812538  0.807378  0.722488  0.770654  0.657870  0.685040  0.695809   \n",
       "77997  0.000000  0.000000  0.000000  0.000000  0.000000  0.000000  0.000000   \n",
       "77998  0.479981  0.823020  0.384841  0.862009  0.268113  0.840944  0.220714   \n",
       "\n",
       "              7         8         9  ...        33        34        35  \\\n",
       "0      0.218653  0.534387  0.164782  ...  0.294588  0.770108  0.201429   \n",
       "1      0.422791  0.295577  0.365717  ...  0.546457  0.500247  0.503992   \n",
       "2      0.317913  0.168354  0.258710  ...  0.429866  0.397665  0.363233   \n",
       "3      0.391317  0.477113  0.336531  ...  0.536890  0.672368  0.509499   \n",
       "4      0.000000  0.000000  0.000000  ...  0.000000  0.000000  0.000000   \n",
       "...         ...       ...       ...  ...       ...       ...       ...   \n",
       "77994  0.000000  0.000000  0.000000  ...  0.000000  0.000000  0.000000   \n",
       "77995  0.250400  0.557569  0.189935  ...  0.283247  0.694655  0.191754   \n",
       "77996  0.598595  0.760485  0.558474  ...  0.668922  0.832692  0.606806   \n",
       "77997  0.000000  0.000000  0.000000  ...  0.000000  0.000000  0.000000   \n",
       "77998  0.749329  0.236509  0.673418  ...  0.749483  0.392075  0.662869   \n",
       "\n",
       "             36        37        38        39        40        41  Output  \n",
       "0      0.770906  0.183164  0.770106  0.239929  0.771767  0.288998       A  \n",
       "1      0.491320  0.457143  0.470195  0.505762  0.454539  0.552650       A  \n",
       "2      0.370970  0.322016  0.361503  0.368900  0.359597  0.413843       A  \n",
       "3      0.671439  0.455122  0.642028  0.502216  0.620230  0.548037       A  \n",
       "4      0.000000  0.000000  0.000000  0.000000  0.000000  0.000000       A  \n",
       "...         ...       ...       ...       ...       ...       ...     ...  \n",
       "77994  0.000000  0.000000  0.000000  0.000000  0.000000  0.000000       Z  \n",
       "77995  0.650525  0.156901  0.638529  0.219743  0.646750  0.275978       Z  \n",
       "77996  0.831649  0.549688  0.830354  0.607322  0.827806  0.658208       Z  \n",
       "77997  0.000000  0.000000  0.000000  0.000000  0.000000  0.000000       Z  \n",
       "77998  0.357071  0.629340  0.384641  0.690663  0.411540  0.726564       Z  \n",
       "\n",
       "[77999 rows x 43 columns]"
      ]
     },
     "execution_count": 2,
     "metadata": {},
     "output_type": "execute_result"
    }
   ],
   "source": [
    "#cargo el dataset\n",
    "df = pd.read_csv('american_train.csv')\n",
    "df.columns = [i for i in range(df.shape[1])]\n",
    "df = df.rename(columns={42: 'Output'})\n",
    "\n",
    "#eliminamos todas las que tengan output un numero\n",
    "df = df[df['Output'].str.isalpha()]\n",
    "df"
   ]
  },
  {
   "cell_type": "code",
   "execution_count": 3,
   "metadata": {},
   "outputs": [
    {
     "data": {
      "text/plain": [
       "(77999, 43)"
      ]
     },
     "execution_count": 3,
     "metadata": {},
     "output_type": "execute_result"
    }
   ],
   "source": [
    "# tamaño del dataset sin limpiar \n",
    "df.shape"
   ]
  },
  {
   "cell_type": "code",
   "execution_count": 4,
   "metadata": {},
   "outputs": [
    {
     "name": "stdout",
     "output_type": "stream",
     "text": [
      "Cantidad de valores nulos:  20890\n"
     ]
    }
   ],
   "source": [
    "# removemos los datos nulos del dataset\n",
    "all_null_values = df[df.iloc[:, 0] == 0]\n",
    "print(\"Cantidad de valores nulos: \", len(all_null_values.index))"
   ]
  },
  {
   "cell_type": "code",
   "execution_count": 5,
   "metadata": {},
   "outputs": [
    {
     "data": {
      "text/plain": [
       "(57109, 43)"
      ]
     },
     "execution_count": 5,
     "metadata": {},
     "output_type": "execute_result"
    }
   ],
   "source": [
    "# eliminamos los datos nulos\n",
    "df = df.drop(all_null_values.index)\n",
    "df.shape"
   ]
  },
  {
   "cell_type": "markdown",
   "metadata": {},
   "source": [
    "## Preparacion de los datos"
   ]
  },
  {
   "cell_type": "code",
   "execution_count": 6,
   "metadata": {},
   "outputs": [
    {
     "name": "stdout",
     "output_type": "stream",
     "text": [
      "Tamaño de las características:  (57109, 42)\n",
      "Tamaño de las etiquetas:  (57109,)\n"
     ]
    }
   ],
   "source": [
    "X = df.iloc[:, :-1]\n",
    "print(\"Tamaño de las características: \", X.shape)\n",
    "Y = df.iloc[:, -1]\n",
    "print(\"Tamaño de las etiquetas: \", Y.shape)"
   ]
  },
  {
   "cell_type": "markdown",
   "metadata": {},
   "source": [
    "## Separación de los datos"
   ]
  },
  {
   "cell_type": "code",
   "execution_count": 7,
   "metadata": {},
   "outputs": [],
   "source": [
    "# dividimos el dataset en train y test\n",
    "x_train, x_test, y_train, y_test = train_test_split(X, Y, test_size=0.2, random_state=0)"
   ]
  },
  {
   "cell_type": "markdown",
   "metadata": {},
   "source": [
    "## Elaboración del modelo"
   ]
  },
  {
   "cell_type": "code",
   "execution_count": 8,
   "metadata": {},
   "outputs": [
    {
     "data": {
      "text/plain": [
       "SVC(C=100, gamma=0.1)"
      ]
     },
     "execution_count": 8,
     "metadata": {},
     "output_type": "execute_result"
    }
   ],
   "source": [
    "svm = SVC(C=100, gamma=0.1, kernel='rbf')\n",
    "svm.fit(x_train, y_train)"
   ]
  },
  {
   "cell_type": "code",
   "execution_count": 9,
   "metadata": {},
   "outputs": [
    {
     "name": "stdout",
     "output_type": "stream",
     "text": [
      "Precision del entrenamiento:  0.9976360890406462\n"
     ]
    }
   ],
   "source": [
    "# precision del entrenamiento\n",
    "print (\"Precision del entrenamiento: \", svm.score(x_train, y_train))"
   ]
  },
  {
   "cell_type": "code",
   "execution_count": 10,
   "metadata": {},
   "outputs": [],
   "source": [
    "y_pred = svm.predict(x_test)"
   ]
  },
  {
   "cell_type": "code",
   "execution_count": 11,
   "metadata": {},
   "outputs": [
    {
     "name": "stdout",
     "output_type": "stream",
     "text": [
      "Precisión del test:  0.9952722815618981\n"
     ]
    }
   ],
   "source": [
    "# precision del test\n",
    "print( \"Precisión del test: \", accuracy_score(y_test, y_pred))"
   ]
  },
  {
   "cell_type": "markdown",
   "metadata": {},
   "source": [
    "## Visualizamos la matriz de confusión"
   ]
  },
  {
   "cell_type": "code",
   "execution_count": 12,
   "metadata": {},
   "outputs": [],
   "source": [
    "cf_matrix = confusion_matrix(y_test, y_pred)\n",
    "f1 = f1_score(y_test, y_pred, average='micro')\n",
    "recall = recall_score(y_test, y_pred, average='micro')\n",
    "precision = precision_score(y_test, y_pred, average='micro')"
   ]
  },
  {
   "cell_type": "code",
   "execution_count": 13,
   "metadata": {},
   "outputs": [
    {
     "data": {
      "text/plain": [
       "(0.9952722815618981, 0.9952722815618981, 0.9952722815618981)"
      ]
     },
     "execution_count": 13,
     "metadata": {},
     "output_type": "execute_result"
    }
   ],
   "source": [
    "f1, recall, precision"
   ]
  },
  {
   "cell_type": "code",
   "execution_count": 14,
   "metadata": {},
   "outputs": [
    {
     "data": {
      "text/plain": [
       "<AxesSubplot:title={'center':'Matriz de confusión American Sign Language'}>"
      ]
     },
     "execution_count": 14,
     "metadata": {},
     "output_type": "execute_result"
    },
    {
     "data": {
      "image/png": "[encoded data removed]",
      "text/plain": [
       "<Figure size 864x864 with 2 Axes>"
      ]
     },
     "metadata": {
      "needs_background": "light"
     },
     "output_type": "display_data"
    }
   ],
   "source": [
    "labels = sorted(list(set(df['Output'])))\n",
    "labels = [x.upper() for x in labels]\n",
    "\n",
    "fig, ax = plt.subplots(figsize=(12, 12))\n",
    "\n",
    "ax.set_title('Matriz de confusión American Sign Language')\n",
    "\n",
    "maping = sns.heatmap(cf_matrix, \n",
    "                     annot=True,\n",
    "                     cmap = plt.cm.Blues, \n",
    "                     linewidths=.2,\n",
    "                     xticklabels=labels,\n",
    "                     yticklabels=labels, vmax=8,\n",
    "                     fmt='g',\n",
    "                     ax=ax\n",
    "                    )\n",
    "maping"
   ]
  },
  {
   "cell_type": "code",
   "execution_count": 15,
   "metadata": {},
   "outputs": [],
   "source": [
    "# Guardamos la matriz de confusión\n",
    "maping.figure.savefig(\"output.png\")"
   ]
  },
  {
   "cell_type": "code",
   "execution_count": 16,
   "metadata": {},
   "outputs": [
    {
     "data": {
      "text/plain": [
       "['model.pkl']"
      ]
     },
     "execution_count": 16,
     "metadata": {},
     "output_type": "execute_result"
    }
   ],
   "source": [
    "# Guardamos el modelo\n",
    "joblib.dump(svm, 'model.pkl')"
   ]
  }
 ],
 "metadata": {
  "kernelspec": {
   "display_name": "Python 3.9.12 ('base')",
   "language": "python",
   "name": "python3"
  },
  "language_info": {
   "codemirror_mode": {
    "name": "ipython",
    "version": 3
   },
   "file_extension": ".py",
   "mimetype": "text/x-python",
   "name": "python",
   "nbconvert_exporter": "python",
   "pygments_lexer": "ipython3",
   "version": "3.9.12"
  },
  "orig_nbformat": 4,
  "vscode": {
   "interpreter": {
    "hash": "b1e807020c27a6a08ddad8523fba35444ac194e68e381877b57564d56341dd08"
   }
  }
 },
 "nbformat": 4,
 "nbformat_minor": 2
}
